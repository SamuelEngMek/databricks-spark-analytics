{
 "cells": [
  {
   "cell_type": "markdown",
   "metadata": {
    "application/vnd.databricks.v1+cell": {
     "cellMetadata": {},
     "inputWidgets": {},
     "nuid": "9a31752e-bfde-41a8-961a-d38414e812e9",
     "showTitle": false,
     "tableResultSettingsMap": {},
     "title": ""
    }
   },
   "source": [
    "# Exploração de Dados\n",
    "\n",
    "O objetivo deste notebook é realizar a exploração de dados para entender melhor o conjunto de dados, identificar padrões, características e potenciais problemas. A exploração de dados é uma etapa fundamental para garantir que as análises subsequentes sejam precisas e relevantes.\n",
    "\n",
    "### Passos principais:\n",
    "1. **Carregamento dos Dados**: O primeiro passo é carregar os dados no ambiente de análise para visualizar sua estrutura e conteúdo.\n",
    "2. **Análise das Colunas e Tipos de Dados**: Verificaremos os tipos de dados, se existem valores nulos e outros aspectos importantes das colunas.\n",
    "3. **Estatísticas Descritivas**: Calcularemos estatísticas descritivas para entender a distribuição e os principais parâmetros das variáveis numéricas.\n",
    "4. **Identificação de Outliers e Anomalias**: Identificaremos possíveis valores atípicos que possam interferir nas análises.\n",
    "5. **Conversão de Tipos de Dados**: Em alguns casos, será necessário converter os tipos de dados para que as análises sejam realizadas de forma eficiente.\n",
    "\n",
    "Vamos iniciar carregando os dados e explorando seu conteúdo."
   ]
  },
  {
   "cell_type": "markdown",
   "metadata": {
    "application/vnd.databricks.v1+cell": {
     "cellMetadata": {},
     "inputWidgets": {},
     "nuid": "cbf5a2fd-08ae-4bea-bd2a-d0b28e2d787c",
     "showTitle": false,
     "tableResultSettingsMap": {},
     "title": ""
    }
   },
   "source": [
    "## Carregar Bibliotecas\n",
    "\n",
    "Para este notebook de exploração de dados, começamos importando a biblioteca **Pandas**, que é fundamental para manipulação e análise de dados em Python. O Pandas oferece estruturas de dados rápidas, poderosas e flexíveis, que são essenciais para o processamento de dados em formato tabular.\n"
   ]
  },
  {
   "cell_type": "code",
   "execution_count": 0,
   "metadata": {
    "application/vnd.databricks.v1+cell": {
     "cellMetadata": {
      "byteLimit": 2048000,
      "rowLimit": 10000
     },
     "inputWidgets": {},
     "nuid": "cd285ab5-c63f-4747-8f4d-88ef1091d4c6",
     "showTitle": false,
     "tableResultSettingsMap": {},
     "title": ""
    }
   },
   "outputs": [
    {
     "output_type": "display_data",
     "data": {
      "application/vnd.databricks.v1+bamboolib_hint": "{\"pd.DataFrames\": [\"walmart_pd\"], \"version\": \"0.0.1\"}",
      "text/plain": []
     },
     "metadata": {},
     "output_type": "display_data"
    }
   ],
   "source": [
    "import pandas as pd"
   ]
  },
  {
   "cell_type": "markdown",
   "metadata": {
    "application/vnd.databricks.v1+cell": {
     "cellMetadata": {},
     "inputWidgets": {},
     "nuid": "fea3e143-9ef6-4a91-8359-da1ae13b5727",
     "showTitle": false,
     "tableResultSettingsMap": {},
     "title": ""
    }
   },
   "source": [
    "## Carregamento dos Dados\n",
    "\n",
    "Nesta etapa, estamos carregando os dados de um arquivo CSV localizado no caminho especificado. Utilizamos o **Apache Spark** para fazer isso, o que nos permite processar grandes volumes de dados de forma distribuída e eficiente.\n",
    "\n",
    "Primeiro, definimos o caminho do arquivo CSV e, em seguida, carregamos os dados em um DataFrame Spark. O parâmetro `header=True` garante que a primeira linha do arquivo seja usada como nomes das colunas, e o `inferSchema=True` permite que o Spark detecte automaticamente os tipos de dados das colunas.\n",
    "\n",
    "Após o carregamento dos dados, exibimos o esquema para verificar os tipos de cada coluna e garantir que os dados foram interpretados corretamente.\n"
   ]
  },
  {
   "cell_type": "code",
   "execution_count": 0,
   "metadata": {
    "application/vnd.databricks.v1+cell": {
     "cellMetadata": {
      "byteLimit": 2048000,
      "rowLimit": 10000
     },
     "inputWidgets": {},
     "nuid": "f44e9ce6-224f-4c91-ae4b-325fcd9702ed",
     "showTitle": false,
     "tableResultSettingsMap": {},
     "title": ""
    }
   },
   "outputs": [
    {
     "output_type": "stream",
     "name": "stdout",
     "output_type": "stream",
     "text": [
      "root\n |-- transaction_id: integer (nullable = true)\n |-- customer_id: integer (nullable = true)\n |-- product_id: integer (nullable = true)\n |-- product_name: string (nullable = true)\n |-- category: string (nullable = true)\n |-- quantity_sold: integer (nullable = true)\n |-- unit_price: double (nullable = true)\n |-- transaction_date: string (nullable = true)\n |-- store_id: integer (nullable = true)\n |-- store_location: string (nullable = true)\n |-- inventory_level: integer (nullable = true)\n |-- reorder_point: integer (nullable = true)\n |-- reorder_quantity: integer (nullable = true)\n |-- supplier_id: integer (nullable = true)\n |-- supplier_lead_time: integer (nullable = true)\n |-- customer_age: integer (nullable = true)\n |-- customer_gender: string (nullable = true)\n |-- customer_income: double (nullable = true)\n |-- customer_loyalty_level: string (nullable = true)\n |-- payment_method: string (nullable = true)\n |-- promotion_applied: boolean (nullable = true)\n |-- promotion_type: string (nullable = true)\n |-- weather_conditions: string (nullable = true)\n |-- holiday_indicator: boolean (nullable = true)\n |-- weekday: string (nullable = true)\n |-- stockout_indicator: boolean (nullable = true)\n |-- forecasted_demand: integer (nullable = true)\n |-- actual_demand: integer (nullable = true)\n\n"
     ]
    }
   ],
   "source": [
    "# Definir o caminho do arquivo\n",
    "file_path = \"/FileStore/Data/Walmart.csv\"\n",
    "\n",
    "# Carregar os dados em um DataFrame Spark\n",
    "walmart_data = spark.read.csv(file_path, header=True, inferSchema=True)\n",
    "\n",
    "# Exibir o esquema dos dados (tipos de cada coluna)\n",
    "walmart_data.printSchema()"
   ]
  },
  {
   "cell_type": "markdown",
   "metadata": {
    "application/vnd.databricks.v1+cell": {
     "cellMetadata": {},
     "inputWidgets": {},
     "nuid": "50fe93ab-3391-4ae7-8529-57ac77695148",
     "showTitle": false,
     "tableResultSettingsMap": {},
     "title": ""
    }
   },
   "source": [
    "## Conversão para Pandas\n",
    "\n",
    "Para facilitar a visualização e manipulação dos dados, convertemos o DataFrame do Spark para um DataFrame do **Pandas**. O Pandas oferece uma interface mais familiar e poderosa para análise de dados em pequenos conjuntos de dados, permitindo visualizar e realizar operações como filtrar, agrupar e transformar os dados de forma mais intuitiva.\n",
    "\n",
    "Após a conversão, usamos o método `head()` do Pandas para exibir as primeiras linhas do DataFrame e termos uma ideia do conteúdo dos dados.\n"
   ]
  },
  {
   "cell_type": "code",
   "execution_count": 0,
   "metadata": {
    "application/vnd.databricks.v1+cell": {
     "cellMetadata": {
      "byteLimit": 2048000,
      "rowLimit": 10000
     },
     "inputWidgets": {},
     "nuid": "5b34e0ed-a654-481d-a918-cbe1f4e1f6a4",
     "showTitle": false,
     "tableResultSettingsMap": {},
     "title": ""
    }
   },
   "outputs": [
    {
     "output_type": "display_data",
     "data": {
      "text/html": [
       "<div>\n",
       "<style scoped>\n",
       "    .dataframe tbody tr th:only-of-type {\n",
       "        vertical-align: middle;\n",
       "    }\n",
       "\n",
       "    .dataframe tbody tr th {\n",
       "        vertical-align: top;\n",
       "    }\n",
       "\n",
       "    .dataframe thead th {\n",
       "        text-align: right;\n",
       "    }\n",
       "</style>\n",
       "<table border=\"1\" class=\"dataframe\">\n",
       "  <thead>\n",
       "    <tr style=\"text-align: right;\">\n",
       "      <th></th>\n",
       "      <th>transaction_id</th>\n",
       "      <th>customer_id</th>\n",
       "      <th>product_id</th>\n",
       "      <th>product_name</th>\n",
       "      <th>category</th>\n",
       "      <th>quantity_sold</th>\n",
       "      <th>unit_price</th>\n",
       "      <th>transaction_date</th>\n",
       "      <th>store_id</th>\n",
       "      <th>store_location</th>\n",
       "      <th>...</th>\n",
       "      <th>customer_loyalty_level</th>\n",
       "      <th>payment_method</th>\n",
       "      <th>promotion_applied</th>\n",
       "      <th>promotion_type</th>\n",
       "      <th>weather_conditions</th>\n",
       "      <th>holiday_indicator</th>\n",
       "      <th>weekday</th>\n",
       "      <th>stockout_indicator</th>\n",
       "      <th>forecasted_demand</th>\n",
       "      <th>actual_demand</th>\n",
       "    </tr>\n",
       "  </thead>\n",
       "  <tbody>\n",
       "    <tr>\n",
       "      <th>0</th>\n",
       "      <td>1</td>\n",
       "      <td>2824</td>\n",
       "      <td>843</td>\n",
       "      <td>Fridge</td>\n",
       "      <td>Electronics</td>\n",
       "      <td>3</td>\n",
       "      <td>188.46</td>\n",
       "      <td>3/31/2024 21:46</td>\n",
       "      <td>3</td>\n",
       "      <td>Miami, FL</td>\n",
       "      <td>...</td>\n",
       "      <td>Silver</td>\n",
       "      <td>Credit Card</td>\n",
       "      <td>True</td>\n",
       "      <td>None</td>\n",
       "      <td>Stormy</td>\n",
       "      <td>False</td>\n",
       "      <td>Friday</td>\n",
       "      <td>True</td>\n",
       "      <td>172</td>\n",
       "      <td>179</td>\n",
       "    </tr>\n",
       "    <tr>\n",
       "      <th>1</th>\n",
       "      <td>2</td>\n",
       "      <td>1409</td>\n",
       "      <td>135</td>\n",
       "      <td>TV</td>\n",
       "      <td>Electronics</td>\n",
       "      <td>4</td>\n",
       "      <td>1912.04</td>\n",
       "      <td>7/28/2024 12:45</td>\n",
       "      <td>5</td>\n",
       "      <td>Dallas, TX</td>\n",
       "      <td>...</td>\n",
       "      <td>Gold</td>\n",
       "      <td>Cash</td>\n",
       "      <td>True</td>\n",
       "      <td>Percentage Discount</td>\n",
       "      <td>Rainy</td>\n",
       "      <td>False</td>\n",
       "      <td>Monday</td>\n",
       "      <td>True</td>\n",
       "      <td>109</td>\n",
       "      <td>484</td>\n",
       "    </tr>\n",
       "    <tr>\n",
       "      <th>2</th>\n",
       "      <td>3</td>\n",
       "      <td>5506</td>\n",
       "      <td>391</td>\n",
       "      <td>Fridge</td>\n",
       "      <td>Electronics</td>\n",
       "      <td>4</td>\n",
       "      <td>1377.75</td>\n",
       "      <td>6/10/2024 4:55</td>\n",
       "      <td>1</td>\n",
       "      <td>Los Angeles, CA</td>\n",
       "      <td>...</td>\n",
       "      <td>Platinum</td>\n",
       "      <td>Cash</td>\n",
       "      <td>False</td>\n",
       "      <td>None</td>\n",
       "      <td>Sunny</td>\n",
       "      <td>False</td>\n",
       "      <td>Tuesday</td>\n",
       "      <td>True</td>\n",
       "      <td>289</td>\n",
       "      <td>416</td>\n",
       "    </tr>\n",
       "    <tr>\n",
       "      <th>3</th>\n",
       "      <td>4</td>\n",
       "      <td>5012</td>\n",
       "      <td>710</td>\n",
       "      <td>Smartphone</td>\n",
       "      <td>Electronics</td>\n",
       "      <td>5</td>\n",
       "      <td>182.31</td>\n",
       "      <td>8/15/2024 1:03</td>\n",
       "      <td>5</td>\n",
       "      <td>Miami, FL</td>\n",
       "      <td>...</td>\n",
       "      <td>Silver</td>\n",
       "      <td>Cash</td>\n",
       "      <td>True</td>\n",
       "      <td>Percentage Discount</td>\n",
       "      <td>Sunny</td>\n",
       "      <td>True</td>\n",
       "      <td>Sunday</td>\n",
       "      <td>False</td>\n",
       "      <td>174</td>\n",
       "      <td>446</td>\n",
       "    </tr>\n",
       "    <tr>\n",
       "      <th>4</th>\n",
       "      <td>5</td>\n",
       "      <td>4657</td>\n",
       "      <td>116</td>\n",
       "      <td>Laptop</td>\n",
       "      <td>Electronics</td>\n",
       "      <td>3</td>\n",
       "      <td>499.28</td>\n",
       "      <td>9/13/2024 0:45</td>\n",
       "      <td>6</td>\n",
       "      <td>Chicago, IL</td>\n",
       "      <td>...</td>\n",
       "      <td>Bronze</td>\n",
       "      <td>Digital Wallet</td>\n",
       "      <td>False</td>\n",
       "      <td>None</td>\n",
       "      <td>Sunny</td>\n",
       "      <td>False</td>\n",
       "      <td>Thursday</td>\n",
       "      <td>True</td>\n",
       "      <td>287</td>\n",
       "      <td>469</td>\n",
       "    </tr>\n",
       "  </tbody>\n",
       "</table>\n",
       "<p>5 rows × 28 columns</p>\n",
       "</div>"
      ]
     },
     "metadata": {
      "application/vnd.databricks.v1+output": {
       "addedWidgets": {},
       "arguments": {},
       "data": "<div>\n<style scoped>\n    .dataframe tbody tr th:only-of-type {\n        vertical-align: middle;\n    }\n\n    .dataframe tbody tr th {\n        vertical-align: top;\n    }\n\n    .dataframe thead th {\n        text-align: right;\n    }\n</style>\n<table border=\"1\" class=\"dataframe\">\n  <thead>\n    <tr style=\"text-align: right;\">\n      <th></th>\n      <th>transaction_id</th>\n      <th>customer_id</th>\n      <th>product_id</th>\n      <th>product_name</th>\n      <th>category</th>\n      <th>quantity_sold</th>\n      <th>unit_price</th>\n      <th>transaction_date</th>\n      <th>store_id</th>\n      <th>store_location</th>\n      <th>...</th>\n      <th>customer_loyalty_level</th>\n      <th>payment_method</th>\n      <th>promotion_applied</th>\n      <th>promotion_type</th>\n      <th>weather_conditions</th>\n      <th>holiday_indicator</th>\n      <th>weekday</th>\n      <th>stockout_indicator</th>\n      <th>forecasted_demand</th>\n      <th>actual_demand</th>\n    </tr>\n  </thead>\n  <tbody>\n    <tr>\n      <th>0</th>\n      <td>1</td>\n      <td>2824</td>\n      <td>843</td>\n      <td>Fridge</td>\n      <td>Electronics</td>\n      <td>3</td>\n      <td>188.46</td>\n      <td>3/31/2024 21:46</td>\n      <td>3</td>\n      <td>Miami, FL</td>\n      <td>...</td>\n      <td>Silver</td>\n      <td>Credit Card</td>\n      <td>True</td>\n      <td>None</td>\n      <td>Stormy</td>\n      <td>False</td>\n      <td>Friday</td>\n      <td>True</td>\n      <td>172</td>\n      <td>179</td>\n    </tr>\n    <tr>\n      <th>1</th>\n      <td>2</td>\n      <td>1409</td>\n      <td>135</td>\n      <td>TV</td>\n      <td>Electronics</td>\n      <td>4</td>\n      <td>1912.04</td>\n      <td>7/28/2024 12:45</td>\n      <td>5</td>\n      <td>Dallas, TX</td>\n      <td>...</td>\n      <td>Gold</td>\n      <td>Cash</td>\n      <td>True</td>\n      <td>Percentage Discount</td>\n      <td>Rainy</td>\n      <td>False</td>\n      <td>Monday</td>\n      <td>True</td>\n      <td>109</td>\n      <td>484</td>\n    </tr>\n    <tr>\n      <th>2</th>\n      <td>3</td>\n      <td>5506</td>\n      <td>391</td>\n      <td>Fridge</td>\n      <td>Electronics</td>\n      <td>4</td>\n      <td>1377.75</td>\n      <td>6/10/2024 4:55</td>\n      <td>1</td>\n      <td>Los Angeles, CA</td>\n      <td>...</td>\n      <td>Platinum</td>\n      <td>Cash</td>\n      <td>False</td>\n      <td>None</td>\n      <td>Sunny</td>\n      <td>False</td>\n      <td>Tuesday</td>\n      <td>True</td>\n      <td>289</td>\n      <td>416</td>\n    </tr>\n    <tr>\n      <th>3</th>\n      <td>4</td>\n      <td>5012</td>\n      <td>710</td>\n      <td>Smartphone</td>\n      <td>Electronics</td>\n      <td>5</td>\n      <td>182.31</td>\n      <td>8/15/2024 1:03</td>\n      <td>5</td>\n      <td>Miami, FL</td>\n      <td>...</td>\n      <td>Silver</td>\n      <td>Cash</td>\n      <td>True</td>\n      <td>Percentage Discount</td>\n      <td>Sunny</td>\n      <td>True</td>\n      <td>Sunday</td>\n      <td>False</td>\n      <td>174</td>\n      <td>446</td>\n    </tr>\n    <tr>\n      <th>4</th>\n      <td>5</td>\n      <td>4657</td>\n      <td>116</td>\n      <td>Laptop</td>\n      <td>Electronics</td>\n      <td>3</td>\n      <td>499.28</td>\n      <td>9/13/2024 0:45</td>\n      <td>6</td>\n      <td>Chicago, IL</td>\n      <td>...</td>\n      <td>Bronze</td>\n      <td>Digital Wallet</td>\n      <td>False</td>\n      <td>None</td>\n      <td>Sunny</td>\n      <td>False</td>\n      <td>Thursday</td>\n      <td>True</td>\n      <td>287</td>\n      <td>469</td>\n    </tr>\n  </tbody>\n</table>\n<p>5 rows × 28 columns</p>\n</div>",
       "datasetInfos": [],
       "metadata": {},
       "removedWidgets": [],
       "textData": null,
       "type": "htmlSandbox"
      }
     },
     "output_type": "display_data"
    }
   ],
   "source": [
    "# Converter o DataFrame Spark para Pandas para melhor visualização\n",
    "walmart_pd = walmart_data.toPandas()\n",
    "\n",
    "# Exibir as primeiras linhas do Pandas DataFrame\n",
    "walmart_pd.head()\n"
   ]
  },
  {
   "cell_type": "markdown",
   "metadata": {
    "application/vnd.databricks.v1+cell": {
     "cellMetadata": {},
     "inputWidgets": {},
     "nuid": "87655a04-92a1-4bc1-b54e-d91788a994b1",
     "showTitle": false,
     "tableResultSettingsMap": {},
     "title": ""
    }
   },
   "source": [
    "## Número de Linhas e Colunas\n",
    "\n",
    "Nesta etapa, estamos verificando o número de linhas e colunas do DataFrame. Isso é importante para entender o tamanho do conjunto de dados e garantir que ele foi carregado corretamente.\n",
    "\n",
    "Usamos o atributo `shape` do DataFrame Pandas para obter as dimensões do dataset. O `shape[0]` nos fornece o número de linhas e o `shape[1]` nos fornece o número de colunas.\n"
   ]
  },
  {
   "cell_type": "code",
   "execution_count": 0,
   "metadata": {
    "application/vnd.databricks.v1+cell": {
     "cellMetadata": {
      "byteLimit": 2048000,
      "rowLimit": 10000
     },
     "inputWidgets": {},
     "nuid": "03a256a7-22d3-431a-a62e-d5c913c89809",
     "showTitle": false,
     "tableResultSettingsMap": {},
     "title": ""
    }
   },
   "outputs": [
    {
     "output_type": "stream",
     "name": "stdout",
     "output_type": "stream",
     "text": [
      "Número de linhas: 5000\nNúmero de colunas: 28\n"
     ]
    }
   ],
   "source": [
    "#Exibir o número de linhas e colunas:\n",
    "print(f\"Número de linhas: {walmart_pd.shape[0]}\")\n",
    "print(f\"Número de colunas: {walmart_pd.shape[1]}\")"
   ]
  },
  {
   "cell_type": "markdown",
   "metadata": {
    "application/vnd.databricks.v1+cell": {
     "cellMetadata": {},
     "inputWidgets": {},
     "nuid": "672d5209-9885-4b19-a5d8-448bba476534",
     "showTitle": false,
     "tableResultSettingsMap": {},
     "title": ""
    }
   },
   "source": [
    "## Resumo Estatístico\n",
    "\n",
    "Agora, vamos calcular as **estatísticas descritivas** do conjunto de dados. Esse resumo fornece informações como a média, o desvio padrão, o valor mínimo, o valor máximo e os quartis das variáveis numéricas. Ele é essencial para compreender a distribuição e a variabilidade dos dados.\n",
    "\n",
    "O método `describe()` do Pandas gera essas estatísticas para todas as colunas numéricas no DataFrame.\n"
   ]
  },
  {
   "cell_type": "code",
   "execution_count": 0,
   "metadata": {
    "application/vnd.databricks.v1+cell": {
     "cellMetadata": {
      "byteLimit": 2048000,
      "rowLimit": 10000
     },
     "inputWidgets": {},
     "nuid": "afaba9a6-407d-48db-8c99-9362334b06d7",
     "showTitle": false,
     "tableResultSettingsMap": {},
     "title": ""
    }
   },
   "outputs": [
    {
     "output_type": "display_data",
     "data": {
      "text/html": [
       "<div>\n",
       "<style scoped>\n",
       "    .dataframe tbody tr th:only-of-type {\n",
       "        vertical-align: middle;\n",
       "    }\n",
       "\n",
       "    .dataframe tbody tr th {\n",
       "        vertical-align: top;\n",
       "    }\n",
       "\n",
       "    .dataframe thead th {\n",
       "        text-align: right;\n",
       "    }\n",
       "</style>\n",
       "<table border=\"1\" class=\"dataframe\">\n",
       "  <thead>\n",
       "    <tr style=\"text-align: right;\">\n",
       "      <th></th>\n",
       "      <th>transaction_id</th>\n",
       "      <th>customer_id</th>\n",
       "      <th>product_id</th>\n",
       "      <th>quantity_sold</th>\n",
       "      <th>unit_price</th>\n",
       "      <th>store_id</th>\n",
       "      <th>inventory_level</th>\n",
       "      <th>reorder_point</th>\n",
       "      <th>reorder_quantity</th>\n",
       "      <th>supplier_id</th>\n",
       "      <th>supplier_lead_time</th>\n",
       "      <th>customer_age</th>\n",
       "      <th>customer_income</th>\n",
       "      <th>forecasted_demand</th>\n",
       "      <th>actual_demand</th>\n",
       "    </tr>\n",
       "  </thead>\n",
       "  <tbody>\n",
       "    <tr>\n",
       "      <th>count</th>\n",
       "      <td>5000.000000</td>\n",
       "      <td>5000.000000</td>\n",
       "      <td>5000.000000</td>\n",
       "      <td>5000.000000</td>\n",
       "      <td>5000.000000</td>\n",
       "      <td>5000.000000</td>\n",
       "      <td>5000.000000</td>\n",
       "      <td>5000.000000</td>\n",
       "      <td>5000.000000</td>\n",
       "      <td>5000.00000</td>\n",
       "      <td>5000.000000</td>\n",
       "      <td>5000.000000</td>\n",
       "      <td>5000.000000</td>\n",
       "      <td>5000.000000</td>\n",
       "      <td>5000.00000</td>\n",
       "    </tr>\n",
       "    <tr>\n",
       "      <th>mean</th>\n",
       "      <td>2500.500000</td>\n",
       "      <td>5542.497200</td>\n",
       "      <td>551.233400</td>\n",
       "      <td>2.982800</td>\n",
       "      <td>1023.467294</td>\n",
       "      <td>10.525000</td>\n",
       "      <td>253.121800</td>\n",
       "      <td>99.788000</td>\n",
       "      <td>200.517000</td>\n",
       "      <td>300.12560</td>\n",
       "      <td>5.523000</td>\n",
       "      <td>44.124000</td>\n",
       "      <td>70041.627846</td>\n",
       "      <td>297.134000</td>\n",
       "      <td>299.08840</td>\n",
       "    </tr>\n",
       "    <tr>\n",
       "      <th>std</th>\n",
       "      <td>1443.520003</td>\n",
       "      <td>2582.126997</td>\n",
       "      <td>258.826606</td>\n",
       "      <td>1.419474</td>\n",
       "      <td>559.614242</td>\n",
       "      <td>5.786888</td>\n",
       "      <td>142.885456</td>\n",
       "      <td>29.132387</td>\n",
       "      <td>58.257381</td>\n",
       "      <td>116.39486</td>\n",
       "      <td>2.863549</td>\n",
       "      <td>15.329358</td>\n",
       "      <td>29053.371736</td>\n",
       "      <td>115.568806</td>\n",
       "      <td>121.68078</td>\n",
       "    </tr>\n",
       "    <tr>\n",
       "      <th>min</th>\n",
       "      <td>1.000000</td>\n",
       "      <td>1001.000000</td>\n",
       "      <td>100.000000</td>\n",
       "      <td>1.000000</td>\n",
       "      <td>50.100000</td>\n",
       "      <td>1.000000</td>\n",
       "      <td>0.000000</td>\n",
       "      <td>50.000000</td>\n",
       "      <td>100.000000</td>\n",
       "      <td>100.00000</td>\n",
       "      <td>1.000000</td>\n",
       "      <td>18.000000</td>\n",
       "      <td>20005.340000</td>\n",
       "      <td>100.000000</td>\n",
       "      <td>90.00000</td>\n",
       "    </tr>\n",
       "    <tr>\n",
       "      <th>25%</th>\n",
       "      <td>1250.750000</td>\n",
       "      <td>3279.000000</td>\n",
       "      <td>322.000000</td>\n",
       "      <td>2.000000</td>\n",
       "      <td>537.775000</td>\n",
       "      <td>5.000000</td>\n",
       "      <td>130.000000</td>\n",
       "      <td>75.000000</td>\n",
       "      <td>150.750000</td>\n",
       "      <td>199.00000</td>\n",
       "      <td>3.000000</td>\n",
       "      <td>31.000000</td>\n",
       "      <td>44865.417500</td>\n",
       "      <td>195.000000</td>\n",
       "      <td>194.00000</td>\n",
       "    </tr>\n",
       "    <tr>\n",
       "      <th>50%</th>\n",
       "      <td>2500.500000</td>\n",
       "      <td>5558.000000</td>\n",
       "      <td>559.000000</td>\n",
       "      <td>3.000000</td>\n",
       "      <td>1029.175000</td>\n",
       "      <td>11.000000</td>\n",
       "      <td>253.000000</td>\n",
       "      <td>100.000000</td>\n",
       "      <td>200.500000</td>\n",
       "      <td>299.00000</td>\n",
       "      <td>6.000000</td>\n",
       "      <td>44.000000</td>\n",
       "      <td>70188.290000</td>\n",
       "      <td>297.500000</td>\n",
       "      <td>299.00000</td>\n",
       "    </tr>\n",
       "    <tr>\n",
       "      <th>75%</th>\n",
       "      <td>3750.250000</td>\n",
       "      <td>7767.250000</td>\n",
       "      <td>776.000000</td>\n",
       "      <td>4.000000</td>\n",
       "      <td>1506.307500</td>\n",
       "      <td>16.000000</td>\n",
       "      <td>377.250000</td>\n",
       "      <td>125.000000</td>\n",
       "      <td>251.000000</td>\n",
       "      <td>405.00000</td>\n",
       "      <td>8.000000</td>\n",
       "      <td>58.000000</td>\n",
       "      <td>95395.872500</td>\n",
       "      <td>395.000000</td>\n",
       "      <td>404.00000</td>\n",
       "    </tr>\n",
       "    <tr>\n",
       "      <th>max</th>\n",
       "      <td>5000.000000</td>\n",
       "      <td>9998.000000</td>\n",
       "      <td>999.000000</td>\n",
       "      <td>5.000000</td>\n",
       "      <td>1999.850000</td>\n",
       "      <td>20.000000</td>\n",
       "      <td>500.000000</td>\n",
       "      <td>150.000000</td>\n",
       "      <td>300.000000</td>\n",
       "      <td>500.00000</td>\n",
       "      <td>10.000000</td>\n",
       "      <td>70.000000</td>\n",
       "      <td>119999.780000</td>\n",
       "      <td>500.000000</td>\n",
       "      <td>510.00000</td>\n",
       "    </tr>\n",
       "  </tbody>\n",
       "</table>\n",
       "</div>"
      ]
     },
     "metadata": {
      "application/vnd.databricks.v1+output": {
       "addedWidgets": {},
       "arguments": {},
       "data": "<div>\n<style scoped>\n    .dataframe tbody tr th:only-of-type {\n        vertical-align: middle;\n    }\n\n    .dataframe tbody tr th {\n        vertical-align: top;\n    }\n\n    .dataframe thead th {\n        text-align: right;\n    }\n</style>\n<table border=\"1\" class=\"dataframe\">\n  <thead>\n    <tr style=\"text-align: right;\">\n      <th></th>\n      <th>transaction_id</th>\n      <th>customer_id</th>\n      <th>product_id</th>\n      <th>quantity_sold</th>\n      <th>unit_price</th>\n      <th>store_id</th>\n      <th>inventory_level</th>\n      <th>reorder_point</th>\n      <th>reorder_quantity</th>\n      <th>supplier_id</th>\n      <th>supplier_lead_time</th>\n      <th>customer_age</th>\n      <th>customer_income</th>\n      <th>forecasted_demand</th>\n      <th>actual_demand</th>\n    </tr>\n  </thead>\n  <tbody>\n    <tr>\n      <th>count</th>\n      <td>5000.000000</td>\n      <td>5000.000000</td>\n      <td>5000.000000</td>\n      <td>5000.000000</td>\n      <td>5000.000000</td>\n      <td>5000.000000</td>\n      <td>5000.000000</td>\n      <td>5000.000000</td>\n      <td>5000.000000</td>\n      <td>5000.00000</td>\n      <td>5000.000000</td>\n      <td>5000.000000</td>\n      <td>5000.000000</td>\n      <td>5000.000000</td>\n      <td>5000.00000</td>\n    </tr>\n    <tr>\n      <th>mean</th>\n      <td>2500.500000</td>\n      <td>5542.497200</td>\n      <td>551.233400</td>\n      <td>2.982800</td>\n      <td>1023.467294</td>\n      <td>10.525000</td>\n      <td>253.121800</td>\n      <td>99.788000</td>\n      <td>200.517000</td>\n      <td>300.12560</td>\n      <td>5.523000</td>\n      <td>44.124000</td>\n      <td>70041.627846</td>\n      <td>297.134000</td>\n      <td>299.08840</td>\n    </tr>\n    <tr>\n      <th>std</th>\n      <td>1443.520003</td>\n      <td>2582.126997</td>\n      <td>258.826606</td>\n      <td>1.419474</td>\n      <td>559.614242</td>\n      <td>5.786888</td>\n      <td>142.885456</td>\n      <td>29.132387</td>\n      <td>58.257381</td>\n      <td>116.39486</td>\n      <td>2.863549</td>\n      <td>15.329358</td>\n      <td>29053.371736</td>\n      <td>115.568806</td>\n      <td>121.68078</td>\n    </tr>\n    <tr>\n      <th>min</th>\n      <td>1.000000</td>\n      <td>1001.000000</td>\n      <td>100.000000</td>\n      <td>1.000000</td>\n      <td>50.100000</td>\n      <td>1.000000</td>\n      <td>0.000000</td>\n      <td>50.000000</td>\n      <td>100.000000</td>\n      <td>100.00000</td>\n      <td>1.000000</td>\n      <td>18.000000</td>\n      <td>20005.340000</td>\n      <td>100.000000</td>\n      <td>90.00000</td>\n    </tr>\n    <tr>\n      <th>25%</th>\n      <td>1250.750000</td>\n      <td>3279.000000</td>\n      <td>322.000000</td>\n      <td>2.000000</td>\n      <td>537.775000</td>\n      <td>5.000000</td>\n      <td>130.000000</td>\n      <td>75.000000</td>\n      <td>150.750000</td>\n      <td>199.00000</td>\n      <td>3.000000</td>\n      <td>31.000000</td>\n      <td>44865.417500</td>\n      <td>195.000000</td>\n      <td>194.00000</td>\n    </tr>\n    <tr>\n      <th>50%</th>\n      <td>2500.500000</td>\n      <td>5558.000000</td>\n      <td>559.000000</td>\n      <td>3.000000</td>\n      <td>1029.175000</td>\n      <td>11.000000</td>\n      <td>253.000000</td>\n      <td>100.000000</td>\n      <td>200.500000</td>\n      <td>299.00000</td>\n      <td>6.000000</td>\n      <td>44.000000</td>\n      <td>70188.290000</td>\n      <td>297.500000</td>\n      <td>299.00000</td>\n    </tr>\n    <tr>\n      <th>75%</th>\n      <td>3750.250000</td>\n      <td>7767.250000</td>\n      <td>776.000000</td>\n      <td>4.000000</td>\n      <td>1506.307500</td>\n      <td>16.000000</td>\n      <td>377.250000</td>\n      <td>125.000000</td>\n      <td>251.000000</td>\n      <td>405.00000</td>\n      <td>8.000000</td>\n      <td>58.000000</td>\n      <td>95395.872500</td>\n      <td>395.000000</td>\n      <td>404.00000</td>\n    </tr>\n    <tr>\n      <th>max</th>\n      <td>5000.000000</td>\n      <td>9998.000000</td>\n      <td>999.000000</td>\n      <td>5.000000</td>\n      <td>1999.850000</td>\n      <td>20.000000</td>\n      <td>500.000000</td>\n      <td>150.000000</td>\n      <td>300.000000</td>\n      <td>500.00000</td>\n      <td>10.000000</td>\n      <td>70.000000</td>\n      <td>119999.780000</td>\n      <td>500.000000</td>\n      <td>510.00000</td>\n    </tr>\n  </tbody>\n</table>\n</div>",
       "datasetInfos": [],
       "metadata": {},
       "removedWidgets": [],
       "textData": null,
       "type": "htmlSandbox"
      }
     },
     "output_type": "display_data"
    }
   ],
   "source": [
    "#Exibir o resumo estatístico\n",
    "walmart_pd.describe()  # Estatísticas descritivas"
   ]
  },
  {
   "cell_type": "markdown",
   "metadata": {
    "application/vnd.databricks.v1+cell": {
     "cellMetadata": {},
     "inputWidgets": {},
     "nuid": "5f62860a-1059-481f-a738-3e08891699e2",
     "showTitle": false,
     "tableResultSettingsMap": {},
     "title": ""
    }
   },
   "source": [
    "## Remover Linhas Duplicadas\n",
    "\n",
    "Em alguns casos, podemos ter **linhas duplicadas** nos dados, o que pode afetar a análise. Para garantir que cada observação seja única, aplicamos a função `drop_duplicates()` do Pandas. Essa função remove todas as linhas que são duplicadas, deixando apenas a primeira ocorrência de cada combinação única de valores.\n",
    "\n",
    "Usamos o parâmetro `inplace=True` para garantir que a remoção seja realizada diretamente no DataFrame, sem a necessidade de criar uma cópia.\n"
   ]
  },
  {
   "cell_type": "code",
   "execution_count": 0,
   "metadata": {
    "application/vnd.databricks.v1+cell": {
     "cellMetadata": {
      "byteLimit": 2048000,
      "rowLimit": 10000
     },
     "inputWidgets": {},
     "nuid": "7ffbfa7b-13b0-481c-943d-4f07a7207532",
     "showTitle": false,
     "tableResultSettingsMap": {},
     "title": ""
    }
   },
   "outputs": [],
   "source": [
    "# Remover linhas duplicadas\n",
    "walmart_pd.drop_duplicates(inplace=True)\n"
   ]
  },
  {
   "cell_type": "markdown",
   "metadata": {
    "application/vnd.databricks.v1+cell": {
     "cellMetadata": {},
     "inputWidgets": {},
     "nuid": "ebba4d28-1dcd-48c9-877a-b5a88f02a748",
     "showTitle": false,
     "tableResultSettingsMap": {},
     "title": ""
    }
   },
   "source": [
    "## Verificar Valores Nulos\n",
    "\n",
    "Agora, vamos verificar se há **valores nulos** no conjunto de dados. A presença de valores nulos pode interferir nas análises subsequentes, por isso é importante identificá-los.\n",
    "\n",
    "O método `isnull()` retorna um DataFrame booleano onde `True` indica que o valor é nulo. Em seguida, usamos `sum()` para contar o número total de valores nulos em cada coluna.\n"
   ]
  },
  {
   "cell_type": "code",
   "execution_count": 0,
   "metadata": {
    "application/vnd.databricks.v1+cell": {
     "cellMetadata": {
      "byteLimit": 2048000,
      "rowLimit": 10000
     },
     "inputWidgets": {},
     "nuid": "019018f0-f0d2-4f9f-9af3-834ffb5ad025",
     "showTitle": false,
     "tableResultSettingsMap": {},
     "title": ""
    }
   },
   "outputs": [
    {
     "output_type": "stream",
     "name": "stdout",
     "output_type": "stream",
     "text": [
      "Out[19]: transaction_id            0\ncustomer_id               0\nproduct_id                0\nproduct_name              0\ncategory                  0\nquantity_sold             0\nunit_price                0\ntransaction_date          0\nstore_id                  0\nstore_location            0\ninventory_level           0\nreorder_point             0\nreorder_quantity          0\nsupplier_id               0\nsupplier_lead_time        0\ncustomer_age              0\ncustomer_gender           0\ncustomer_income           0\ncustomer_loyalty_level    0\npayment_method            0\npromotion_applied         0\npromotion_type            0\nweather_conditions        0\nholiday_indicator         0\nweekday                   0\nstockout_indicator        0\nforecasted_demand         0\nactual_demand             0\ndtype: int64"
     ]
    }
   ],
   "source": [
    "#Verificar valores nulos\n",
    "walmart_pd.isnull().sum()"
   ]
  },
  {
   "cell_type": "markdown",
   "metadata": {
    "application/vnd.databricks.v1+cell": {
     "cellMetadata": {},
     "inputWidgets": {},
     "nuid": "39db9dc6-2e32-43dc-a734-8dba7cc8491e",
     "showTitle": false,
     "tableResultSettingsMap": {},
     "title": ""
    }
   },
   "source": [
    "## Converter `transaction_date` para Datetime\n",
    "\n",
    "Nesta etapa, estamos convertendo a coluna `transaction_date` para o tipo de dado **datetime**, que é mais adequado para análises de séries temporais, como agregações por data, visualizações e cálculos baseados em tempo.\n",
    "\n",
    "Usamos o método `pd.to_datetime()` do Pandas para realizar a conversão. O parâmetro `errors='coerce'` é utilizado para garantir que valores inválidos sejam transformados em `NaT` (Not a Time) em vez de gerar erros.\n",
    "\n",
    "Após a conversão, exibimos as primeiras linhas do DataFrame para verificar se a transformação foi bem-sucedida.\n"
   ]
  },
  {
   "cell_type": "code",
   "execution_count": 0,
   "metadata": {
    "application/vnd.databricks.v1+cell": {
     "cellMetadata": {
      "byteLimit": 2048000,
      "rowLimit": 10000
     },
     "inputWidgets": {},
     "nuid": "88c631e1-0359-4ed2-be52-4a254dbd3a5e",
     "showTitle": false,
     "tableResultSettingsMap": {},
     "title": ""
    }
   },
   "outputs": [
    {
     "output_type": "display_data",
     "data": {
      "text/html": [
       "<div>\n",
       "<style scoped>\n",
       "    .dataframe tbody tr th:only-of-type {\n",
       "        vertical-align: middle;\n",
       "    }\n",
       "\n",
       "    .dataframe tbody tr th {\n",
       "        vertical-align: top;\n",
       "    }\n",
       "\n",
       "    .dataframe thead th {\n",
       "        text-align: right;\n",
       "    }\n",
       "</style>\n",
       "<table border=\"1\" class=\"dataframe\">\n",
       "  <thead>\n",
       "    <tr style=\"text-align: right;\">\n",
       "      <th></th>\n",
       "      <th>transaction_id</th>\n",
       "      <th>customer_id</th>\n",
       "      <th>product_id</th>\n",
       "      <th>product_name</th>\n",
       "      <th>category</th>\n",
       "      <th>quantity_sold</th>\n",
       "      <th>unit_price</th>\n",
       "      <th>transaction_date</th>\n",
       "      <th>store_id</th>\n",
       "      <th>store_location</th>\n",
       "      <th>...</th>\n",
       "      <th>customer_loyalty_level</th>\n",
       "      <th>payment_method</th>\n",
       "      <th>promotion_applied</th>\n",
       "      <th>promotion_type</th>\n",
       "      <th>weather_conditions</th>\n",
       "      <th>holiday_indicator</th>\n",
       "      <th>weekday</th>\n",
       "      <th>stockout_indicator</th>\n",
       "      <th>forecasted_demand</th>\n",
       "      <th>actual_demand</th>\n",
       "    </tr>\n",
       "  </thead>\n",
       "  <tbody>\n",
       "    <tr>\n",
       "      <th>0</th>\n",
       "      <td>1</td>\n",
       "      <td>2824</td>\n",
       "      <td>843</td>\n",
       "      <td>Fridge</td>\n",
       "      <td>Electronics</td>\n",
       "      <td>3</td>\n",
       "      <td>188.46</td>\n",
       "      <td>2024-03-31 21:46:00</td>\n",
       "      <td>3</td>\n",
       "      <td>Miami, FL</td>\n",
       "      <td>...</td>\n",
       "      <td>Silver</td>\n",
       "      <td>Credit Card</td>\n",
       "      <td>True</td>\n",
       "      <td>None</td>\n",
       "      <td>Stormy</td>\n",
       "      <td>False</td>\n",
       "      <td>Friday</td>\n",
       "      <td>True</td>\n",
       "      <td>172</td>\n",
       "      <td>179</td>\n",
       "    </tr>\n",
       "    <tr>\n",
       "      <th>1</th>\n",
       "      <td>2</td>\n",
       "      <td>1409</td>\n",
       "      <td>135</td>\n",
       "      <td>TV</td>\n",
       "      <td>Electronics</td>\n",
       "      <td>4</td>\n",
       "      <td>1912.04</td>\n",
       "      <td>2024-07-28 12:45:00</td>\n",
       "      <td>5</td>\n",
       "      <td>Dallas, TX</td>\n",
       "      <td>...</td>\n",
       "      <td>Gold</td>\n",
       "      <td>Cash</td>\n",
       "      <td>True</td>\n",
       "      <td>Percentage Discount</td>\n",
       "      <td>Rainy</td>\n",
       "      <td>False</td>\n",
       "      <td>Monday</td>\n",
       "      <td>True</td>\n",
       "      <td>109</td>\n",
       "      <td>484</td>\n",
       "    </tr>\n",
       "    <tr>\n",
       "      <th>2</th>\n",
       "      <td>3</td>\n",
       "      <td>5506</td>\n",
       "      <td>391</td>\n",
       "      <td>Fridge</td>\n",
       "      <td>Electronics</td>\n",
       "      <td>4</td>\n",
       "      <td>1377.75</td>\n",
       "      <td>2024-06-10 04:55:00</td>\n",
       "      <td>1</td>\n",
       "      <td>Los Angeles, CA</td>\n",
       "      <td>...</td>\n",
       "      <td>Platinum</td>\n",
       "      <td>Cash</td>\n",
       "      <td>False</td>\n",
       "      <td>None</td>\n",
       "      <td>Sunny</td>\n",
       "      <td>False</td>\n",
       "      <td>Tuesday</td>\n",
       "      <td>True</td>\n",
       "      <td>289</td>\n",
       "      <td>416</td>\n",
       "    </tr>\n",
       "    <tr>\n",
       "      <th>3</th>\n",
       "      <td>4</td>\n",
       "      <td>5012</td>\n",
       "      <td>710</td>\n",
       "      <td>Smartphone</td>\n",
       "      <td>Electronics</td>\n",
       "      <td>5</td>\n",
       "      <td>182.31</td>\n",
       "      <td>2024-08-15 01:03:00</td>\n",
       "      <td>5</td>\n",
       "      <td>Miami, FL</td>\n",
       "      <td>...</td>\n",
       "      <td>Silver</td>\n",
       "      <td>Cash</td>\n",
       "      <td>True</td>\n",
       "      <td>Percentage Discount</td>\n",
       "      <td>Sunny</td>\n",
       "      <td>True</td>\n",
       "      <td>Sunday</td>\n",
       "      <td>False</td>\n",
       "      <td>174</td>\n",
       "      <td>446</td>\n",
       "    </tr>\n",
       "    <tr>\n",
       "      <th>4</th>\n",
       "      <td>5</td>\n",
       "      <td>4657</td>\n",
       "      <td>116</td>\n",
       "      <td>Laptop</td>\n",
       "      <td>Electronics</td>\n",
       "      <td>3</td>\n",
       "      <td>499.28</td>\n",
       "      <td>2024-09-13 00:45:00</td>\n",
       "      <td>6</td>\n",
       "      <td>Chicago, IL</td>\n",
       "      <td>...</td>\n",
       "      <td>Bronze</td>\n",
       "      <td>Digital Wallet</td>\n",
       "      <td>False</td>\n",
       "      <td>None</td>\n",
       "      <td>Sunny</td>\n",
       "      <td>False</td>\n",
       "      <td>Thursday</td>\n",
       "      <td>True</td>\n",
       "      <td>287</td>\n",
       "      <td>469</td>\n",
       "    </tr>\n",
       "  </tbody>\n",
       "</table>\n",
       "<p>5 rows × 28 columns</p>\n",
       "</div>"
      ]
     },
     "metadata": {
      "application/vnd.databricks.v1+output": {
       "addedWidgets": {},
       "arguments": {},
       "data": "<div>\n<style scoped>\n    .dataframe tbody tr th:only-of-type {\n        vertical-align: middle;\n    }\n\n    .dataframe tbody tr th {\n        vertical-align: top;\n    }\n\n    .dataframe thead th {\n        text-align: right;\n    }\n</style>\n<table border=\"1\" class=\"dataframe\">\n  <thead>\n    <tr style=\"text-align: right;\">\n      <th></th>\n      <th>transaction_id</th>\n      <th>customer_id</th>\n      <th>product_id</th>\n      <th>product_name</th>\n      <th>category</th>\n      <th>quantity_sold</th>\n      <th>unit_price</th>\n      <th>transaction_date</th>\n      <th>store_id</th>\n      <th>store_location</th>\n      <th>...</th>\n      <th>customer_loyalty_level</th>\n      <th>payment_method</th>\n      <th>promotion_applied</th>\n      <th>promotion_type</th>\n      <th>weather_conditions</th>\n      <th>holiday_indicator</th>\n      <th>weekday</th>\n      <th>stockout_indicator</th>\n      <th>forecasted_demand</th>\n      <th>actual_demand</th>\n    </tr>\n  </thead>\n  <tbody>\n    <tr>\n      <th>0</th>\n      <td>1</td>\n      <td>2824</td>\n      <td>843</td>\n      <td>Fridge</td>\n      <td>Electronics</td>\n      <td>3</td>\n      <td>188.46</td>\n      <td>2024-03-31 21:46:00</td>\n      <td>3</td>\n      <td>Miami, FL</td>\n      <td>...</td>\n      <td>Silver</td>\n      <td>Credit Card</td>\n      <td>True</td>\n      <td>None</td>\n      <td>Stormy</td>\n      <td>False</td>\n      <td>Friday</td>\n      <td>True</td>\n      <td>172</td>\n      <td>179</td>\n    </tr>\n    <tr>\n      <th>1</th>\n      <td>2</td>\n      <td>1409</td>\n      <td>135</td>\n      <td>TV</td>\n      <td>Electronics</td>\n      <td>4</td>\n      <td>1912.04</td>\n      <td>2024-07-28 12:45:00</td>\n      <td>5</td>\n      <td>Dallas, TX</td>\n      <td>...</td>\n      <td>Gold</td>\n      <td>Cash</td>\n      <td>True</td>\n      <td>Percentage Discount</td>\n      <td>Rainy</td>\n      <td>False</td>\n      <td>Monday</td>\n      <td>True</td>\n      <td>109</td>\n      <td>484</td>\n    </tr>\n    <tr>\n      <th>2</th>\n      <td>3</td>\n      <td>5506</td>\n      <td>391</td>\n      <td>Fridge</td>\n      <td>Electronics</td>\n      <td>4</td>\n      <td>1377.75</td>\n      <td>2024-06-10 04:55:00</td>\n      <td>1</td>\n      <td>Los Angeles, CA</td>\n      <td>...</td>\n      <td>Platinum</td>\n      <td>Cash</td>\n      <td>False</td>\n      <td>None</td>\n      <td>Sunny</td>\n      <td>False</td>\n      <td>Tuesday</td>\n      <td>True</td>\n      <td>289</td>\n      <td>416</td>\n    </tr>\n    <tr>\n      <th>3</th>\n      <td>4</td>\n      <td>5012</td>\n      <td>710</td>\n      <td>Smartphone</td>\n      <td>Electronics</td>\n      <td>5</td>\n      <td>182.31</td>\n      <td>2024-08-15 01:03:00</td>\n      <td>5</td>\n      <td>Miami, FL</td>\n      <td>...</td>\n      <td>Silver</td>\n      <td>Cash</td>\n      <td>True</td>\n      <td>Percentage Discount</td>\n      <td>Sunny</td>\n      <td>True</td>\n      <td>Sunday</td>\n      <td>False</td>\n      <td>174</td>\n      <td>446</td>\n    </tr>\n    <tr>\n      <th>4</th>\n      <td>5</td>\n      <td>4657</td>\n      <td>116</td>\n      <td>Laptop</td>\n      <td>Electronics</td>\n      <td>3</td>\n      <td>499.28</td>\n      <td>2024-09-13 00:45:00</td>\n      <td>6</td>\n      <td>Chicago, IL</td>\n      <td>...</td>\n      <td>Bronze</td>\n      <td>Digital Wallet</td>\n      <td>False</td>\n      <td>None</td>\n      <td>Sunny</td>\n      <td>False</td>\n      <td>Thursday</td>\n      <td>True</td>\n      <td>287</td>\n      <td>469</td>\n    </tr>\n  </tbody>\n</table>\n<p>5 rows × 28 columns</p>\n</div>",
       "datasetInfos": [],
       "metadata": {},
       "removedWidgets": [],
       "textData": null,
       "type": "htmlSandbox"
      }
     },
     "output_type": "display_data"
    }
   ],
   "source": [
    "#Converter transaction_date para datetime:\n",
    "walmart_pd['transaction_date'] = pd.to_datetime(walmart_pd['transaction_date'], errors='coerce')\n",
    "# Exibir as primeiras linhas do Pandas DataFrame\n",
    "walmart_pd.head()"
   ]
  },
  {
   "cell_type": "markdown",
   "metadata": {
    "application/vnd.databricks.v1+cell": {
     "cellMetadata": {},
     "inputWidgets": {},
     "nuid": "be90872c-d52a-4db7-98ee-e6c298c3ca27",
     "showTitle": false,
     "tableResultSettingsMap": {},
     "title": ""
    }
   },
   "source": [
    "## Converter para DataFrame do PySpark e Salvar em Parquet\n",
    "\n",
    "Após realizar as transformações e análises no **DataFrame Pandas**, podemos convertê-lo para um **DataFrame PySpark** para aproveitarmos o poder de processamento distribuído do Spark, especialmente útil quando lidamos com grandes volumes de dados.\n",
    "\n",
    "A função `createDataFrame()` do PySpark é utilizada para converter o DataFrame Pandas em um DataFrame PySpark. Em seguida, o DataFrame é salvo em formato **Parquet**, um formato de armazenamento eficiente para grandes volumes de dados.\n",
    "\n",
    "O caminho onde os dados serão salvos é especificado na variável `path_temp`, e usamos o método `write.parquet()` para gravar os dados no DBFS (Databricks File System).\n"
   ]
  },
  {
   "cell_type": "code",
   "execution_count": 0,
   "metadata": {
    "application/vnd.databricks.v1+cell": {
     "cellMetadata": {
      "byteLimit": 2048000,
      "rowLimit": 10000
     },
     "inputWidgets": {},
     "nuid": "306f4c4e-8400-42b4-bf5d-d1b6792ebcc0",
     "showTitle": false,
     "tableResultSettingsMap": {},
     "title": ""
    }
   },
   "outputs": [],
   "source": [
    "# Converter para DataFrame do PySpark\n",
    "walmart_spark_df = spark.createDataFrame(walmart_pd)\n",
    "# Caminho para salvar no DBFS local\n",
    "path_temp = '/tmp/dados_transformed.parquet'\n",
    "# Salvar em Parquet\n",
    "walmart_spark_df.write.parquet(path_temp)"
   ]
  }
 ],
 "metadata": {
  "application/vnd.databricks.v1+notebook": {
   "computePreferences": null,
   "dashboards": [],
   "environmentMetadata": {
    "base_environment": "",
    "client": "1"
   },
   "language": "python",
   "notebookMetadata": {
    "pythonIndentUnit": 4
   },
   "notebookName": "Exploracao_de_dados",
   "widgets": {}
  }
 },
 "nbformat": 4,
 "nbformat_minor": 0
}
